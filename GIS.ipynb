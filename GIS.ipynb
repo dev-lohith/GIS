{
 "cells": [
  {
   "cell_type": "markdown",
   "id": "e1e443f7-3f63-4af8-aaaa-3d9832455639",
   "metadata": {},
   "source": [
    "# Random coordinate creater"
   ]
  },
  {
   "cell_type": "code",
   "execution_count": null,
   "id": "31d18f1b-1396-4469-8c5e-6291d4f6874b",
   "metadata": {},
   "outputs": [],
   "source": [
    "import geopandas as gpd\n",
    "import pandas as pd\n",
    "import random\n",
    "from shapely.geometry import Point\n",
    "\n",
    "# Load the boundary GeoJSON file\n",
    "input_boundary_filename = '/home/lohith/Documents/git_push/GIS/coordinates_2500/polygon_0.geojson'\n",
    "boundary = gpd.read_file(input_boundary_filename)\n",
    "\n",
    "# Define the number of coordinates to generate\n",
    "coordinates_range = 2500\n",
    "\n",
    "# Function to generate random points within the boundary\n",
    "def generate_random_points(geometry, num_points):\n",
    "    minx, miny, maxx, maxy = geometry.bounds\n",
    "    points = []\n",
    "    while len(points) < num_points:\n",
    "        lng = random.uniform(minx, maxx)\n",
    "        lat = random.uniform(miny, maxy)\n",
    "        point = Point(lng, lat)\n",
    "        if geometry.contains(point):\n",
    "            points.append(point)\n",
    "    return points\n",
    "\n",
    "# Generate random points within the boundary\n",
    "random_points = generate_random_points(boundary['geometry'].iloc[0], coordinates_range)\n",
    "\n",
    "# Create a GeoDataFrame for the random points\n",
    "points_gdf = gpd.GeoDataFrame(\n",
    "    {'geometry': random_points},\n",
    "    crs=boundary.crs\n",
    ")\n",
    "\n",
    "# Concatenate the boundary GeoDataFrame and the points GeoDataFrame\n",
    "combined_gdf = pd.concat([boundary, points_gdf], ignore_index=True)\n",
    "\n",
    "# Save the combined GeoDataFrame to the same GeoJSON file\n",
    "combined_output_filename = 'polygon_0_points.geojson'\n",
    "combined_gdf.to_file(combined_output_filename, driver='GeoJSON')"
   ]
  },
  {
   "cell_type": "markdown",
   "id": "6d3a1802-f4e1-4b53-944d-4ff9b0098b13",
   "metadata": {},
   "source": [
    "# Latitude and longitude split"
   ]
  },
  {
   "cell_type": "code",
   "execution_count": null,
   "id": "b8f41a54-1444-45e8-9d8c-5dcf4df72b50",
   "metadata": {},
   "outputs": [],
   "source": [
    "# Split the 'origin' and 'destination' columns on the comma\n",
    "api_input[['origin_lat', 'origin_lon']] = api_input['origin'].str.split(',', expand=True)\n",
    "api_input[['destination_lat', 'destination_lon']] = api_input['destination'].str.split(',', expand=True)"
   ]
  },
  {
   "cell_type": "markdown",
   "id": "446c42fc-7e87-42f4-aaad-1a79c9f959c3",
   "metadata": {},
   "source": [
    "# Geojson Merge"
   ]
  },
  {
   "cell_type": "code",
   "execution_count": null,
   "id": "21f46573-45d0-42d0-bd74-bad034e1bf8a",
   "metadata": {},
   "outputs": [],
   "source": [
    "# Create an empty GeoDataFrame\n",
    "merged_gdf = gpd.GeoDataFrame()\n",
    "\n",
    "# Directory containing the GeoJSON files\n",
    "directory_path = '/geojson'  # Replace with the path to your directory\n",
    "\n",
    "# Loop through the files and merge\n",
    "for filename in os.listdir(directory_path):\n",
    "    if filename.endswith('.geojson'):\n",
    "        file_path = os.path.join(directory_path, filename)\n",
    "        try:\n",
    "            gdf = gpd.read_file(file_path)\n",
    "            merged_gdf = pd.concat([merged_gdf, gdf], ignore_index=True)\n",
    "        except Exception as e:\n",
    "            print(f\"Error reading {file_path}: {str(e)}\")\n",
    "\n",
    "# Save the merged GeoDataFrame to a new GeoJSON file\n",
    "output_path = '/merged.geojson'  # Replace with the desired output file path\n",
    "merged_gdf.to_file(output_path, driver='GeoJSON')"
   ]
  },
  {
   "cell_type": "markdown",
   "id": "644e9edc-caa9-46f4-96d4-92492b32b37b",
   "metadata": {},
   "source": [
    "# to _wkb"
   ]
  },
  {
   "cell_type": "code",
   "execution_count": 6,
   "id": "f305341e",
   "metadata": {},
   "outputs": [
    {
     "data": {
      "text/html": [
       "<div>\n",
       "<style scoped>\n",
       "    .dataframe tbody tr th:only-of-type {\n",
       "        vertical-align: middle;\n",
       "    }\n",
       "\n",
       "    .dataframe tbody tr th {\n",
       "        vertical-align: top;\n",
       "    }\n",
       "\n",
       "    .dataframe thead th {\n",
       "        text-align: right;\n",
       "    }\n",
       "</style>\n",
       "<table border=\"1\" class=\"dataframe\">\n",
       "  <thead>\n",
       "    <tr style=\"text-align: right;\">\n",
       "      <th></th>\n",
       "      <th>pincode</th>\n",
       "      <th>state</th>\n",
       "      <th>district</th>\n",
       "      <th>officename</th>\n",
       "      <th>officetype</th>\n",
       "      <th>geometry</th>\n",
       "    </tr>\n",
       "  </thead>\n",
       "  <tbody>\n",
       "    <tr>\n",
       "      <th>0</th>\n",
       "      <td>321023</td>\n",
       "      <td>Rajasthan</td>\n",
       "      <td>Bharatpur</td>\n",
       "      <td>Jurhera</td>\n",
       "      <td>S.O</td>\n",
       "      <td>MULTIPOLYGON (((77.13926 27.76213, 77.13982 27...</td>\n",
       "    </tr>\n",
       "    <tr>\n",
       "      <th>1</th>\n",
       "      <td>322236</td>\n",
       "      <td>Rajasthan</td>\n",
       "      <td>Karauli</td>\n",
       "      <td>Dhindora</td>\n",
       "      <td>S.O</td>\n",
       "      <td>MULTIPOLYGON (((77.07143 26.84008, 77.06852 26...</td>\n",
       "    </tr>\n",
       "    <tr>\n",
       "      <th>2</th>\n",
       "      <td>321024</td>\n",
       "      <td>Rajasthan</td>\n",
       "      <td>Bharatpur</td>\n",
       "      <td>Sikri</td>\n",
       "      <td>S.O</td>\n",
       "      <td>MULTIPOLYGON (((76.93663 27.60967, 76.93636 27...</td>\n",
       "    </tr>\n",
       "    <tr>\n",
       "      <th>3</th>\n",
       "      <td>322252</td>\n",
       "      <td>Rajasthan</td>\n",
       "      <td>Karauli</td>\n",
       "      <td>Suroth</td>\n",
       "      <td>S.O</td>\n",
       "      <td>MULTIPOLYGON (((77.13675 26.80514, 77.13852 26...</td>\n",
       "    </tr>\n",
       "    <tr>\n",
       "      <th>4</th>\n",
       "      <td>321201</td>\n",
       "      <td>Rajasthan</td>\n",
       "      <td>Bharatpur</td>\n",
       "      <td>Kumher</td>\n",
       "      <td>S.O</td>\n",
       "      <td>MULTIPOLYGON (((77.20875 27.33833, 77.20870 27...</td>\n",
       "    </tr>\n",
       "    <tr>\n",
       "      <th>...</th>\n",
       "      <td>...</td>\n",
       "      <td>...</td>\n",
       "      <td>...</td>\n",
       "      <td>...</td>\n",
       "      <td>...</td>\n",
       "      <td>...</td>\n",
       "    </tr>\n",
       "    <tr>\n",
       "      <th>19923</th>\n",
       "      <td>321001</td>\n",
       "      <td>Rajasthan</td>\n",
       "      <td>Bharatpur</td>\n",
       "      <td>Bharatpur</td>\n",
       "      <td>H.O</td>\n",
       "      <td>MULTIPOLYGON (((77.42586 27.16520, 77.42629 27...</td>\n",
       "    </tr>\n",
       "    <tr>\n",
       "      <th>19924</th>\n",
       "      <td>321006</td>\n",
       "      <td>Rajasthan</td>\n",
       "      <td>Alwar</td>\n",
       "      <td>Kherli Mandi</td>\n",
       "      <td>B.O</td>\n",
       "      <td>MULTIPOLYGON (((77.01975 27.19543, 77.02009 27...</td>\n",
       "    </tr>\n",
       "    <tr>\n",
       "      <th>19925</th>\n",
       "      <td>322234</td>\n",
       "      <td>Rajasthan</td>\n",
       "      <td>Karauli</td>\n",
       "      <td>Kheda</td>\n",
       "      <td>S.O</td>\n",
       "      <td>MULTIPOLYGON (((76.93974 26.67283, 76.93613 26...</td>\n",
       "    </tr>\n",
       "    <tr>\n",
       "      <th>19926</th>\n",
       "      <td>321022</td>\n",
       "      <td>Rajasthan</td>\n",
       "      <td>Bharatpur</td>\n",
       "      <td>Kamanlsg</td>\n",
       "      <td>S.O</td>\n",
       "      <td>MULTIPOLYGON (((77.16325 27.62850, 77.16296 27...</td>\n",
       "    </tr>\n",
       "    <tr>\n",
       "      <th>19927</th>\n",
       "      <td>365450</td>\n",
       "      <td>Gujarat</td>\n",
       "      <td>Amreli</td>\n",
       "      <td>Kunkavav</td>\n",
       "      <td>S.O</td>\n",
       "      <td>MULTIPOLYGON (((71.00116 21.57470, 71.00250 21...</td>\n",
       "    </tr>\n",
       "  </tbody>\n",
       "</table>\n",
       "<p>19928 rows × 6 columns</p>\n",
       "</div>"
      ],
      "text/plain": [
       "      pincode      state   district    officename officetype  \\\n",
       "0      321023  Rajasthan  Bharatpur       Jurhera        S.O   \n",
       "1      322236  Rajasthan    Karauli      Dhindora        S.O   \n",
       "2      321024  Rajasthan  Bharatpur         Sikri        S.O   \n",
       "3      322252  Rajasthan    Karauli        Suroth        S.O   \n",
       "4      321201  Rajasthan  Bharatpur        Kumher        S.O   \n",
       "...       ...        ...        ...           ...        ...   \n",
       "19923  321001  Rajasthan  Bharatpur     Bharatpur        H.O   \n",
       "19924  321006  Rajasthan      Alwar  Kherli Mandi        B.O   \n",
       "19925  322234  Rajasthan    Karauli         Kheda        S.O   \n",
       "19926  321022  Rajasthan  Bharatpur      Kamanlsg        S.O   \n",
       "19927  365450    Gujarat     Amreli      Kunkavav        S.O   \n",
       "\n",
       "                                                geometry  \n",
       "0      MULTIPOLYGON (((77.13926 27.76213, 77.13982 27...  \n",
       "1      MULTIPOLYGON (((77.07143 26.84008, 77.06852 26...  \n",
       "2      MULTIPOLYGON (((76.93663 27.60967, 76.93636 27...  \n",
       "3      MULTIPOLYGON (((77.13675 26.80514, 77.13852 26...  \n",
       "4      MULTIPOLYGON (((77.20875 27.33833, 77.20870 27...  \n",
       "...                                                  ...  \n",
       "19923  MULTIPOLYGON (((77.42586 27.16520, 77.42629 27...  \n",
       "19924  MULTIPOLYGON (((77.01975 27.19543, 77.02009 27...  \n",
       "19925  MULTIPOLYGON (((76.93974 26.67283, 76.93613 26...  \n",
       "19926  MULTIPOLYGON (((77.16325 27.62850, 77.16296 27...  \n",
       "19927  MULTIPOLYGON (((71.00116 21.57470, 71.00250 21...  \n",
       "\n",
       "[19928 rows x 6 columns]"
      ]
     },
     "execution_count": 6,
     "metadata": {},
     "output_type": "execute_result"
    }
   ],
   "source": [
    "import geopandas as gpd\n",
    "\n",
    "test  = gpd.read_file('/home/lohitd@nextbillion.ai/Downloads/India_Pincodes.geojson')\n",
    "test"
   ]
  },
  {
   "cell_type": "code",
   "execution_count": 13,
   "id": "f9ff67a6",
   "metadata": {},
   "outputs": [],
   "source": [
    "test_wkb = test.to_wkb()"
   ]
  },
  {
   "cell_type": "code",
   "execution_count": 15,
   "id": "e9cd2e06",
   "metadata": {},
   "outputs": [
    {
     "data": {
      "text/plain": [
       "b'\\x01\\x06\\x00\\x00\\x00\\x01\\x00\\x00\\x00\\x01\\x03\\x00\\x00\\x00\\x01\\x00\\x00\\x00\\xa5\\x01\\x00\\x00\\x80\\xa8T\\xed\\x80WS@\\xd0\\xc7\\xcc\\xfb%\\xfa:@\\x8c\\xe8\\xf1&\\x83WS@\\xd0\\xc3\\xa8w\\x9c\\xfa:@xs\\xa4\\xd3\\x96WS@\\xc0n\\xf7\\xd2N\\xfb:@ p\\x9d\\x84\\x99WS@\\xe0\\xbc\\x928g\\xfb:@\\x9c0\\x1f=\\xa7WS@\\xd0@a9y\\xfc:@\\x003\\xde\\x01\\xaeWS@\\x10\\xdch\\x9c\\xa8\\xfc:@H\\xb0/(\\xbdWS@@\\xbe\\x19\\xac\\x12\\xfd:@\\\\\\xbd=V\\xcdWS@\\xc0\\xc8?\\x1bY\\xfd:@\\xbc\\xe202\\xe2WS@\\xa0u\\xde-a\\xfd:@\\xc0@\\xf9\\x8f\\x10XS@P\\xecr\\xa7`\\xfd:@\\xb0\\x96#\\x8b4XS@\\x90\\xa7\\xd4\\xa0\\x19\\xfd:@h1\\xd3\\x1cdXS@\\x00;\\xf7\\x9e\\xd6\\xfc:@\\xd8\\xea|^|XS@`\\xac\\xa9\\x11\\xc2\\xfc:@\\x1ce\\xec\\xb2\\xa9XS@\\x00?}\\xa9\\x9b\\xfc:@P~\\x04H\\xe8XS@\\x10\\x80\\xfe\\x8b\\xab\\xfc:@\\xc0G\\x97&\\x0cYS@P\\x89R\\xd1\\x0e\\xfd:@\\x00\\xaeg+\\x13YS@p\\x9e\\x95\\'\\'\\xfd:@`\\xb1o)1YS@P\\xc7T&\\x8f\\xfd:@\\x90,q\\xb6KYS@Pl\\xd5K=\\xfe:@$\\xb0s\\xcdjYS@@\\xc0\\xc3;\\x89\\xff:@\\xb4\\x89\\x8d\\xe9\\x81YS@\\x90Q\\rk\\x01\\x00;@Pm} \\x8bYS@\\xc0\\x12\\x93\\xd8`\\x00;@l\\x9e\\x96\\xc2\\x85YS@\\x80\\xa0\\xb8\\x95\\xdf\\x00;@\\x9c+\\xec\\xb2eYS@`KB\\x8aq\\x01;@0\\'#\\xfe\\xbcYS@P\\x8d\\x1f\\x04\\xcf\\x01;@(\\xbb\\x9c\\x93\\xc2YS@\\xe0\\x1aa\\x91\\xd7\\x01;@0\\xd37\\xaa\\xfaYS@\\x107\\x83\\xd2\\xc7\\x01;@\\x84\\x14\\xc2\\x16\\x16ZS@@\\x06\\xafM\\x8b\\x01;@\\x90a\\xfc\\x98&ZS@\\xe0\\xfa\\xdc\\x1e\\xeb\\x01;@,\\xcd\\xecvFZS@\\xa0w\\xf06\\xa8\\x02;@\\xcc\\xd1\\x01.\\\\ZS@\\x80\\xa7\\x01\\\\f\\x03;@\\xb8\\xebt7aZS@\\xc0\\x8c`o\\xc3\\x03;@L6E\\xa7xZS@\\xa0\\xe0,4\\xe0\\x03;@p\\xcf\\x17t\\xbbZS@Pr\\xac\\xab\\xe3\\x03;@|\\x1d\\x8b\\xdf\\x11[S@\\x10\\x85\\xda}\\x87\\x03;@\\xd8\\x8e)\\xf6V[S@\\x00\\x9a\\n\\x817\\x03;@\\x04\\x9d\\x08ul[S@ 3\\xca\\n\\x0b\\x03;@L\\xfeh&q[S@\\x80r\\x02\\xed%\\x03;@\\xdc\\x8e\\xf4^\\x83[S@0\\xdf8\\x9bL\\x03;@\\x0ca\\xcaQ\\x9c[S@\\xe0\\xa1\\'~\\x83\\x03;@\\x90}\\x85n\\xb3[S@\\xa0\\xcd6U\\xc1\\x03;@\\xd4\\xd8\\xb9\\x1a\\xd0[S@\\x90\\xe7\\xc7\\x10\\xf1\\x03;@\\xe8\\x83\\xd1\\\\\\xe4[S@09\\xdb\\xd1+\\x04;@d\\x0cq\\x11\\x19\\\\S@@\\xe2|\\xe8\\x95\\x04;@\\xb8,i\\x0fb\\\\S@0O\\xad\\x1e>\\x05;@\\xdc\\xed{>\\xa9\\\\S@p\\x0e\\xf9\\xa7\\xf0\\x05;@\\xdc\\x8chb\\xc1\\\\S@\\x80\\xb0\\x03T#\\x06;@\\x88\\x12X+\\xbf\\\\S@\\xe0\\\\S :\\x06;@\\xd8\\x08\\xcb4\\xc0\\\\S@\\x10\\xe8\\x8f\\xf7\\xca\\x06;@\\xc4}\\xa6a\\xc2\\\\S@\\x90\\x83\\x1acx\\x07;@\\xec1\\xbb\\xc2\\xc3\\\\S@\\x80\\xe4\\x87W\\xe6\\x07;@\\xb0k\\'\\'\\xc4\\\\S@P\\xcf\\x18I}\\x08;@\\x80\\x87\\xb0\\xfa\\xc5\\\\S@P\\xd9)\\x8c|\\x08;@\\xbc{Y\\xd9\\xcc\\\\S@\\x80\\x04p\\xc5y\\x08;@TN\\xa2?\\x14]S@@\\xf1U\\x9a.\\x08;@\\xb8b\\xd47g]S@\\xa0Ae\\x03\\xc9\\x07;@\\xa0\\x82\\xe7z\\xa2]S@P\\xcc\\xca\\xfa\\xb1\\x07;@X6\\x8au\\xd5]S@\\x80\\x83\\r\\xd3\\xc5\\x07;@\\xb8f%}\\xfe]S@p\\x90\\x90\\xb8\\xf6\\x07;@`C+TF^S@ \\xc0$.Q\\x08;@\\x88c\\x1b\\xd8}^S@\\xc0\\x14\\x92\\x8e\\xb8\\x08;@\\x80c]\\x8a\\x94^S@\\x10\\x8d\\xe5d#\\t;@p\\xfc\\x8a\\xce\\xa6^S@\\x00\\xd8Z\\xadH\\t;@\\xe0\\xf3\\x9c[\\xc3^S@ \\xc3\\x92\\xad}\\t;@\\xcc\\xba\\x92\\xe2\\xff^S@\\x10\\x9e{\\xe4\\t\\n;@\\xa8d&\\xa4\\x00_S@@\\xdd\\xe6\\xa4\\x0b\\n;@p\\xfa\\x1b\\xcc,_S@\\x80\\xf2\\xbb\\xd1\\xa3\\n;@\\xcca\\xd5\\xf2L_S@\\xd0\\x14\\xd6\\xc4$\\x0b;@<\\x98\\xbe\\xddO_S@\\xa0\\x02\\xbe\\\\\\x1c\\x0b;@\\xb4\\xdf\\xc0\\x9cr_S@P\\xd7\\xe6\\xb0\\r\\x0b;@P/\\xaa\\x8c\\x87_S@\\xc0!\\xfd\\x054\\x0b;@Hf\\x98\\xef\\x92_S@\\xa0\\xb4\\x95[<\\x0b;@<)C`\\x95_S@\\xa0PH[8\\x0b;@(\\xf9\\x08e\\x9d_S@p}\\xc0Yv\\x0b;@\\xf8\\x92\\x05\\xea\\xb9_S@\\xc0f\\xbcW\\xa1\\x0b;@\\x1c+\\\\\\xc0\\xf3_S@\\xf0\\xee\\xd9H\\xd7\\x0b;@l\\xfc\\x97\\xff\\n`S@\\x90\\xda\\xd6o\\xd9\\x0b;@\\xa8\\x8e\\xffc\\x10`S@ \\x03\\x08J\\xee\\x0b;@\\xa4}\\xbcM\\x14`S@@\\xaa\\xd4k\\xfd\\x0b;@L\\xb3\\x98\\x9e\\x0e`S@\\xa0\\x17q3\\xb9\\x0c;@\\x0c\\xa0f\\'\\x12`S@\\x00\\xde\\x85k\\x8d\\r;@8\\xb2\\xc3\\x1b\\x14`S@`!\\xc9\\x8b\\xad\\r;@\\xa8;~A\\x1a`S@\\xb0Q\\x0b\\x96\\x12\\x0e;@l(\\nO#`S@ L\\xd3\\xffu\\x0e;@\\xa0\\xa4\\xb1\\xc3B`S@\\x90<\\x1b\\x14\\x89\\x0e;@\\x08\\xf2\\x03\\xaeY`S@\\xb0}/y\\xa5\\x0e;@\\x10\\r:\\x1aq`S@ \\x8dT\\x15\\x05\\x0f;@l\\x0f\\xf9V{`S@\\xb0\\xab\\xeb\\x0b,\\x0f;@\\xac@\\xbc\\xe4\\x8a`S@\\x00~;>g\\x0f;@l\\x02v7\\x94`S@\\x104\\xb0\\x8c\\xc5\\x0f;@\\xe8\\xe6m\\xe6\\xa8`S@0\\xad\\xe3\\x05\\x97\\x10;@8\\x82\\x8f5\\xb5`S@\\xb0\\x1e\\xb3\\xbbj\\x11;@\\xd0MV2\\xc1`S@P\\x8b\\x1f\\x0e\\xc5\\x11;@P\\x1dH\\xa2\\xd0`S@\\x002Xs\\x10\\x12;@$7E\\xeb\\xeb`S@`\\x19\\xca\\x0b\\xe9\\x11;@\\x9c0\\xfc\\xc3\\naS@\\xf0d\\xe8\\xa9\\xc3\\x11;@\\x1c\\xdbe\\x88>aS@0\\x0e\\x8a\\xed\\x84\\x11;@\\x8c\\xb3?\\x95saS@\\x80\\xd4\\x13\\xc6U\\x11;@\\xf4>\\x06anaS@\\xf0BhB\\x93\\x10;@0\\n%?\\xe2aS@\\xc0g\\x89z\\xc1\\x0f;@\\xb8/\\x8eY\\x12bS@p\\x04\\xc2\\x07\\xa7\\x0f;@L\\xe0\\\\\\xc16bS@\\xd07|\\x03\\x93\\x0f;@`\\xdc!\\xfeabS@ d\\x0cE\\xba\\x0f;@\\x84\\tmI\\x7fbS@0Q\\xb7\\\\\\x00\\x10;@\\x04i\\xe3\\xc0\\xabbS@ \\xcf\\x13\\xc2j\\x10;@0\\xf6h\\x1f+cS@\\xf0:\\xd4c[\\x12;@l\\x1b\\xe9\\x04@cS@`\\x80\\xac7\\x94\\x12;@\\\\\\x9a\\x1b_{cS@\\x10a\\xf4\\x9f5\\x13;@ \\x81[?\\xfdcS@\\x10\\x8d&\\x1eP\\x12;@\\xd0\\xf0+\\xaa\\tdS@\\x10\\xa8\\x8d\\xbeW\\x12;@L\\x82\\xf0\\x84LdS@\\xd0\\x97O\\xce\\x80\\x12;@\\x84\\xb8^mvdS@\\xc0\\xfc\\x9f\\x8b\\x9a\\x12;@\\x0c\\x96\\x81>\\x91dS@\\xb0\\xa9&\\x04\\xab\\x12;@\\x84v\\x14\\x02\\xb9dS@\\xb0\\xb0}\\x7f\\x83\\x12;@\\xfc\\xfcPG\\xbfdS@\\xf0\\x8fL\\x1bQ\\x12;@d\\xa81!\\xe6dS@@\\xdc$\\xe3\\x18\\x11;@H\\x9av\\xa1\\xb9dS@\\xc0\\xe0\\xf8\\xb86\\x10;@\\xd0\\xa0\\'\\x81\\xcddS@\\xc0O\\xd4a\\x85\\x0f;@d\\xb9\\xf3+\\xccdS@\\xe0J\\xeb\\x0b\\xb2\\x0e;@DGm\\xff\\xcadS@\\x80\\xa9\\x03\\xe8\\xf7\\r;@\\xe8\\xda\\xc6\\xa1\\xbcdS@0\\xe8Pf\\x13\\r;@0\\xf8\\x9e \\xb1dS@P\\x1d\\xe0g\\\\\\x0c;@\\xc4M\\x00\\xdfmdS@\\xa0Z\\xe3\\xb9\\xbe\\x0b;@\\x08?\\xd8|LdS@\\xc0\\x1ch\\xac\\x16\\x0b;@@\\x84\\x8f\\xbeIdS@\\xf0\\xd3\\x1f\\xdd\\x08\\x0b;@\\x98\\xad\\xb1\\xa00dS@@U\\x92\\xc5\\xfd\\x07;@PE.\\xe0edS@\\xa0\\x81~\\xb8\\xab\\x07;@\\xa0\\x88b\"\\x8bdS@0,R\\x0f\\xf4\\x07;@\\x94\\xe3P\\xc1\\xe1dS@\\xf06\\xe1<\\x9c\\x08;@X\\x9eT*\\x07eS@\\xb0 N\\x0f\\xcd\\x08;@L:R~ReS@\\xa0@\\xbb]/\\t;@\\xdc\\x04\\xc81\\xd1eS@\\xa0\\x82\\xc6\\x11\\xae\\x08;@\\xd4G\\xff>\\xe3eS@\\xe0\\x96\\xe4\\xa5\\x9b\\x08;@\\x80\"\\x92\\xf8\\xebeS@\\x00\\xe7\\xb4Z\\x8b\\x08;@4\\xf9{a2fS@\\xf0\\xe5B\\xdd\\x07\\x08;@\\x0c\\r+\\xa0PfS@\\xa0F\\xf9\\x97\\xa4\\x06;@\\xe0\\xbc\\x90\\x9f\\x8dfS@\\x80h\\xcb\\xa4\\x86\\x06;@\\xa0u\\x19w\\x90fS@P\\xa6g\\xae\\x80\\x06;@`\\xdc\\xad\\x7f\\xd7fS@\\xc0\\xb3\\xac\\xa6\\xeb\\x05;@\\xf4\\xb2\\x80_#gS@\\x00\\xc7/&\\xfd\\x05;@\\xe4\\x0c\\x13\\x81\\xeagS@\\xf0\\xe8\\xd1y\\x8d\\x05;@\\xa8\\x90x^*hS@\\x80\\x89n\\x9e\\xea\\x04;@X\\xdc1\\x00ThS@\\xf0\\xbb@\\x85#\\x04;@\\xb8\\xf8t\\xf4thS@Ps\\xaa\\xdf\\xfa\\x02;@\\xf0/\\xff=xhS@ \\x87DH\\xdd\\x02;@\\xf8C?\\xde\\xabhS@PI\\x9d\\xfd\\x81\\x02;@$\\x1a\\x14\\xca\\xcahS@\\x00\\xd1w\\xc4\\x96\\x03;@\\xdcI\\xb9\\xc0\\xe5hS@0kF\\x1e\\x88\\x04;@\\xb4\\xf8\\x7f\\x1b\\x12iS@\\xd0p\\xbf\\xacF\\x05;@|\\\\s\\x9f\\x1ciS@p\\x81\\xed\\xd9s\\x05;@(\\xdar\\x9e\\xb1iS@\\x10\\x86~\\xdc~\\x05;@\\x00\\xdbP5\\xbaiS@ V\\xca\\x7fl\\x05;@$\\xddc\\x9c\\xd4iS@\\xc0\\xf2Q\\x0e4\\x05;@\\xbc\\xf8\\xbc\\xe1>jS@@\\x1c\\x14\\xdfP\\x04;@X6\\x07X\\x8cjS@\\x10\\xdd\\xbe\\xffY\\x04;@\\xd0w\\x87\\xc0\\x91jS@\\x10\\xb6\\xe4\\xa2Z\\x04;@H\\xa3\\x84a\\xc0jS@0\\x8b\\x968\\xf2\\x04;@\\xc4\\xed\\xeb\\xbd\\xf8jS@`\\xf0\\x12#K\\x06;@\\xe8ai\\xb6\\x15kS@\\xf0+\\xb4\\x14j\\x07;@\\xb4\\x95\\xdaI\\x1ekS@\\xe0w\\xbf\\x05\\xbf\\x07;@\\xa4\\x18&\\xc0XkS@\\xe0\\xe6m\\x11\\x02\\n;@\\x80\\x89\\xc1\\xc0skS@@\\x1eM\\x84\\r\\x0b;@\\xb8\\x92P\\xe0\\x9dkS@\\xc0\\xd6\\xcf\\x83\\xbb\\x0b;@\\x80/\\xdde\\xa2kS@\\xe0\\xac)\\xa7\\xb7\\x0b;@\\xb4\\xb5\\x13_\\xedkS@\\x00>\\x9d\\x9ew\\x0b;@X/D\\xb3/lS@\\x00\\x10\\xefu\\x84\\n;@ \\xb5\\x05\\xa0QlS@\\xe0R\\xfe\\x17\\x08\\n;@x\\x1d\\xb2\\x9eZlS@\\x80\\xba\\x81<\\xbb\\x08;@\\x94\\xbc\\xe6\\x01,lS@\\x90c&\\x7f\\xf7\\x06;@\\x88\\xf8c\\xbcHlS@\\xa0f\\x1a\\xbcs\\x06;@\\xa4\\xec\\xa8u\\xe5lS@\\x80\\x80\\x9d\\xed\\xa4\\x03;@\\xac\\xc4d\\xe1\\xeblS@\\xd0>\\xb3z\\x87\\x03;@\\xb8tf\\x80\\x0bmS@\\x10&\\x8a\"\\xa4\\x02;@Hz\\xbe\\x9f\\x1amS@\\xc0\\xde\\xa7;O\\x00;@\\xf4\\xb6`\\xcf\\x1emS@\\x80\\x18\\t|F\\x00;@T\\x9d\\xe9AAmS@@}\\x1f~\\xfe\\xff:@\\x98\\x85(~\\x8cmS@\\xc0Oa\\x88\\x9c\\xfe:@\\xd0V4\\xa0\\xdemS@\\x10G\\x9c=\\xd0\\xfe:@\\xa8\\xdfV?6nS@\\x80\\xc3\\xb4\\xff\\x01\\xfe:@l\\x05+\\x94jnS@\\xb0/pJv\\xfe:@\\xbc\\xb0\\xd1\\xffrnS@\\x00\\xf9\\xc3\\x00\\x89\\xfe:@P\\xe7~\\xdf\\xbfnS@0\\x16{\\xf9\\x9d\\xfe:@\\xac\\x95\\x8d\\xb2\\xc7nS@\\x90\\xdc4P\\x07\\xff:@\\xacg\\xa6A\\xd1nS@\\xc0\\xbc\\xeb\\x00\\x88\\xff:@Ph\\xdd>\\xabnS@\\x903\\x06\\xa4\\xfd\\xff:@|\\xa1J^\\x9dnS@ \\xc9\\x1cy \\x02;@p\\xc7\\xdeA\\xa4nS@ p\\xea\\x9e\\xc7\\x02;@\\xd4\\x84W\\x01\\xbenS@\\x80\\t5X8\\x05;@\\xc8\\x05C\\xff\\x04oS@\\x90\\n\\xd7\\xa1\\x9a\\x06;@\\\\-\\xfa\\xa1+oS@\\x00\\x1a\\xa9\\x0e\\xc0\\x06;@\\\\\\xb4n\\x80\\x99oS@\\x10f\\xd6{*\\x07;@$\\x1c\\x03\\xe7\\xb0oS@P)\\x0b\\xbd\\x07\\x07;@\\xa0\\xbeV`\\xc8oS@p]m\\xe2\\xe4\\x06;@\\xcc]\\xb4\\x01\\xd8oS@PO\\xbb\\x80\\x97\\x05;@\\xb4\\x100\\x80\\xf0oS@\\xd0\\x1b\\x01\\x1b\\x10\\x05;@8\\x984\\x81\"pS@`o\\xaa\\x1f\\x9b\\x04;@\\xb0M\\xc34dpS@PT7\\xb2\\x97\\x04;@\\xb4K>\\xddxpS@\\x10qT\\x9e\\x96\\x04;@H\\xee\\xfe@\\xb9pS@P\\xc4eB\\x93\\x04;@\\xa0Ir\\xbe\\xd8pS@\\xe0\\x0c\\xc8_Z\\x04;@\\x10\\xd2\\x88A`pS@\\xf0\\x9d\\xfe\\xc7\\t\\x03;@\\xc4-n\\xde8pS@\\xc0j\\x9e\\xba\\xf2\\x01;@X\\x18c^GpS@@\\x16\\xb0&O\\x01;@\\x8c\\xc3\\xa0\\xc0;pS@\\x00\\xd6X\\xdf\\xc0\\x00;@\\x98\\x1c.r4pS@\\xa0\\x06\\xaar\\xa9\\x00;@\\xa4I\\xe1y!pS@\\xf0\\x9f;\\xa1l\\x00;@XY\\xde\\xe0\\x0bpS@0\\x12\\x1bc\\'\\x00;@\\xbc_\\xfe^\\npS@P\\x8c>\\xfc\\xfc\\xff:@P\\xe9\\xb4\\xe0EpS@ O\\x94\\xf9G\\xff:@\\x18\\\\\\xe5^`pS@p\\x1d\\xa2\\xbb$\\xfe:@\\xa4\\xf3\\x0f\"\\x19pS@\\x00\\x993$\\xee\\xfd:@\\xd4^\\r\\xc2\\xdcoS@\\xa0\\xd0~\\xe2\\x00\\xfe:@\\xf8&\\x03_\\xd1oS@\\x10\\xa0@\\xff=\\xfc:@\\xb8\\xee\\xc5\\xc1\\xa5oS@P\\x13\\xf3\\xdf\\x83\\xfb:@\\xe8b\\xfa\\xde{oS@\\x80\\x0b{+\\x84\\xfb:@\\x10n\\xc6\\xbf\\xcfnS@@\\x04\\xd4a\\x85\\xfb:@0\\xe4\\xd3\\xb5\\xafnS@\\xd0\\xb2Y\\xca\\xb7\\xfb:@\\xe4}[ AnS@`e\\x02\\xc7e\\xfc:@\\x90\\xc8\\x0b^\\xf4mS@`4\\xb1\\x1fb\\xfb:@\\xdc\\xf3A\\x03\\xa5mS@pl1\\xde\\xe6\\xfa:@\\x98\\x8a\\xbc\\x01fmS@\\x00\\x81]\\x01\\x85\\xfa:@87T\\xc5\\x1dmS@\\x00\\xba\\xed\\xec\\xdf\\xf9:@\\x1c\\x17\\xb0 \\xcdlS@\\xb0s\\x05\\xa2\\'\\xf9:@\\xd8\\x96\\xa0\\xf0\\xa8lS@\\xf0\\x9e?.\\x1b\\xf9:@PG\\xa6\\xca\\x8bkS@\\xb0.\\x80\\x0f\\xb9\\xf8:@\\x08*\\x82\\x1ejkS@\\x00\\x07Ly\\xad\\xf8:@\\xc8>a\\xdfNkS@ lL\\xf8\\xa5\\xf6:@ ;\\xf6\\xb96kS@\\x00\\xc4wHd\\xf6:@Xh\\x1fa\\x18kS@\\x80o<\\xba\\x11\\xf6:@\\x14\\t$\\x13\\xe8jS@P!\\x84\\x179\\xf6:@\\x1cf\\xb3@\\xbbjS@\\xf0\\x07B\\x9e]\\xf6:@D\\x02\\x11\\xdf\\x89jS@\\x90;s\\xfb\\xe5\\xf7:@\\xec\\xc4\\xd1\\xa2ljS@\\xb0\\xd3\\xf3\\x8b\\xff\\xf7:@00=^HjS@\\x00\\xf1\\xbbB\\x1f\\xf8:@\\xfc\\xef\\xc8\\x1f\\x0cjS@\\x00\\x93\\xb0\\xba\\xd5\\xf7:@\\xb4\\xa0@\\xa1\\x9eiS@P\\xe4\\xea<*\\xf6:@\\xdc?\\xed\\x81\\xe3hS@ 6\\x8d\\xe7\\x80\\xf4:@\\xfc\\xdf\\xc7\\x8b\\xd2hS@\\xf0l\\xc3YZ\\xf4:@\\xfc\\xdcO\"NhS@0\\x83\\x07`-\\xf3:@x\\xf8&}\\x9cgS@0\\xcaf\\x95\\x99\\xf1:@\\xe0AfG\\x92gS@\\xa0\\xc8I`\\x82\\xf1:@d\\x8f\\xaf!8gS@\\xe0\\\\\\x1dx\\xb5\\xf0:@\\xbc\\x96\\n`\\xcafS@\\xa0L\\xa2\\xe5@\\xef:@\\x0cE\\x8bj\\xb8fS@\\x80\"\\xf0\\xad\\x16\\xef:@\\x00d9\\xc2\\xb3fS@\\xf0P\\x0c\\xbb\\x0b\\xef:@\\xd4\\xd0\\xa7\\x01\\x83fS@P\\xd6\\xf8\\x1f\\x99\\xee:@0l=AbfS@\\xe0\\x0f\\xe3\\x194\\xf0:@\\xcc\\x8d\\xc4!\\x1bfS@\\x10# dY\\xf0:@\\xf8\\xb8\\xd5\\x86\\xfaeS@\\xf0\\xf5\\xa9\\xf9\\xea\\xef:@\\xf4E\\xde\\x1f\\xefeS@\\xa0*\\xba\\\\\\xc4\\xef:@\\x14\\x82\\x8c\\x01\\x9deS@@RT\\xc7\\xdc\\xec:@ \\x03\\x8c\\xa1\\x9ceS@P\\xff\\x06b\\xd9\\xec:@\\xd0F\\xa9|PeS@\\xc0\\xbcC\\xbb\\x97\\xec:@D\\xd8I8\\xbedS@\\x00\\xfc\\xbe\\x9e\\x19\\xec:@\\x1c\\xf4\\x1c\\x1f-dS@\\xe0e0\\x84\\x9c\\xeb:@,w\\xda\\xd5\\x15dS@\\xe0\\xcf~\\xb8}\\xeb:@\\x90rU\\xbegcS@\\xe0\\xbb\\x88|\\x97\\xea:@XL\\x8a=]cS@\\xf0v\\xb46\\x8d\\xea:@\\xfc\\xcd/oVcS@\\xf0S\\x1a\\xe2\\xe5\\xea:@\\xe0\\x84\\x17\\x94ScS@\\xb0\\x9ad\\x13\\xb0\\xeb:@D\\x87r@UcS@\\x90\\x8f\\x12\\xfe\\x17\\xec:@\\xe8\\xb5\\x05\\x8cfcS@\\xf0E\\x07L\\xb4\\xed:@<}\\x9e\\x9dhcS@\\x90`Y\\x9c\\xe5\\xed:@\\xb0\\xfb\\xd3$mcS@\\xc0\\x93\\x14\\x9ci\\xee:@\\x1c+|\\xe6tcS@\\x80\\xf4Ch\\xc7\\xee:@\\x88*\\xbb\\xb9}cS@\\xa0\\x81\\xe6\\n8\\xef:@8]\\xa9{\\x93cS@\\xb0~x\\xb7M\\xf0:@\\xa4[\\x1aF\\xb2cS@ \\x95\\xb7\\x82\\xe1\\xf1:@\\xb0,\\x0f\\xb2\\xb8cS@\\x00U\\xd7\\xa9T\\xf2:@$&\\x90\\xd6\\xaacS@\\xe0\\xb8\\x95u\\x96\\xf2:@\\xc8\\xf9\\xa2\\x06\\x88cS@\\xb0X\\x83\\x9a=\\xf3:@\\xecJ\\xc8j|cS@\\x008\\x7f*\\x9e\\xf3:@H\\x8a\\x0f\\xe4|cS@\\x90\\n\\x83\\xee\\xc4\\xf3:@T\"\\xc1A\\x7fcS@ \\x88\\'\\x87\\x86\\xf4:@pA\\x0eq\\x7fcS@P\\x8d\\xaf.\\xed\\xf6:@\\xc4`P[\\x81cS@ ec\\x80\\xac\\xf8:@l\\x90\\x876\\x84cS@\\xf0\\xcb\\x95\\x8b\\xb7\\xf8:@\\xe4\\xf1^0pcS@\\xa0G\\xa6\\x93\\xed\\xf8:@$\\x07\\'\\xa7;cS@0dq\\x1d.\\xf9:@d\\xfeV\\x93\\x11cS@@\\xe6por\\xf9:@\\x94\\xe8\\x82\\xac\\xfbbS@ \\x07\\x1d\\x1b\\x02\\xf9:@\\x00\\xd1\\x05\\x98\\xcbbS@\\xc0O\\x0c\\xbdf\\xf8:@\\xb4\\x7f\\x0e\\xf0\\xc0bS@\\x10e\\xa9\\xf0Q\\xf8:@\\xb00c\\x8e\\xc0bS@@Vk<S\\xf8:@\\xf8F\\x9c\\x1e\\xa1bS@\\xd0;8\\x03\\xbe\\xf8:@,\\xca\\xf4tkbS@p\\x13xyI\\xf9:@\\xc8|:PSbS@\\xc0w\\xcd\\xa7\\xa9\\xf9:@X1\\xa4k\\'bS@\\xa0\\xbc\\x84\\xc7\\x1d\\xfa:@\\x88\\x9aI.\\xfeaS@\\x80\\x1d6\\xe6\\xa7\\xfa:@\\x10?W\\xdd\\xe9aS@\\xf0s/\\t\\x15\\xfb:@l\\xf5\\x9d\\xd3\\xd1aS@\\xe0\\x1e\\xddw\\'\\xfc:@D\\x91\\x83\\xa1\\xbbaS@\\xf0\\x8ee\\x06\\xe5\\xfc:@4\\xaex\\x96\\x92aS@PV)\\xdb\\x89\\xfd:@\\xe0\\xc6\\xe5\\xe2~aS@`\\x97\\xac\\x12\\x13\\xfe:@\\x10\\xb9\\x0c\\xac\\x87aS@@\\x93t\\xb8N\\xfe:@0\\xa2\\xde\\n\\x9aaS@\\xb0\\xc9R\\xa2\\xce\\xfe:@  \\x18^\\x8faS@\\xe0\\\\\\xed\\xe7\\xdf\\xfe:@l\\x81\\x1b\\x8bcaS@\\xd0;\\xc8z`\\xff:@\\xb0\\x0e\\xc2\\x0bUaS@\\x90\\x1f\\xe2Q\\x85\\xff:@\\x8c; \\xa9LaS@`\\xda\\xfe=y\\xff:@\\xfc\\xf0\\xfbf6aS@\\x00\\xa5SAa\\xff:@\\xc0\\xba\\x06\\xdf\"aS@\\xc0\\x89p\\xd5\\x9b\\xff:@\\x0c\\xa3\\xf7\\xf6\\x06aS@\\xa0\\x90H\\x12\\xdb\\xff:@\\xd8\\xbbU^\\xc7`S@\\x10=\\r-\\x0b\\xff:@\\\\\\xbd\\xa3Co`S@\\x00b\\xb5\\xfe\\xf4\\xfd:@\\x9c\\x08+\\xe62`S@ *\\x01\\xdd+\\xfd:@\\xc4\\xbcI\\x1d\\xf6_S@\\xd0\\xcb\\xb7Pa\\xfc:@|\\xc4\\r\\x03\\xc0_S@0\\x0c\\xae3\\xb3\\xfb:@\\xfc#=o\\xbc_S@ \\xa4F\\xb0\\xa7\\xfb:@\\xb8\\xc8\\xf1\\x90\\xb3_S@ \\xc6C\\x97\\\\\\xfb:@\\x80\\xd7\\x8fE\\x86_S@ d{\\x8a\\xd6\\xfa:@\\xc0\\xa7\\xbc\\xa3}_S@ \\xc8\\n@\\x8b\\xfa:@\\x8c,ai{_S@\\xa0\\xa07\\xd1w\\xfa:@\\xb0\\xf6\\x96\\x12I_S@\\xf0\\xdb\\xd0\\xf2\\x85\\xf9:@<\\xca?\\xd1\\x06_S@@Ju3\\\\\\xf8:@\\xb4\\x04\\xe5c\\xd1^S@PqbOq\\xf7:@\\xf0z\\x0b\\xa3\\xc9^S@\\x10\\xcc\\x988O\\xf7:@\\xa8\\x16%\\x08\\x86^S@\\xb0\\xf2\\xc6!A\\xf6:@\\xd4|\\xa7\\xaeo^S@07\\x8am\\xf9\\xf5:@d*p(q^S@\\xc0\\xba-W\\xf4\\xf5:@\\xb4E\\x19\\xcbl^S@ \\xc4A?\\xc0\\xf5:@\\x10\\x1eo]M^S@P.\\x077&\\xf5:@\\x00\\xe9N\\x9fI^S@\\x80\\xc5\\x0b\\xbb\\x0f\\xf5:@\\x10\\x802EB^S@\\xd0\\xcf\\r\\x90\\xe3\\xf4:@ \\xd5DK8^S@ \\xda\\x9f!w\\xf4:@ \\x8f\\xab\\xa1\\x16^S@\\xa0\\xc0\\xf7\\x80\\xa4\\xf3:@x\\xd5\\x04\\xfa\\xfc]S@@k\\r\\xba\\xf4\\xf2:@\\xd8\\x9eb\\xdd\\xdf]S@\\x80: \\x92\\xfd\\xf1:@8\\x8e\\x1bm\\xc8]S@\\xc0\\x9a\\x9f\\x06\\x9f\\xf1:@l\\x98\\xc0c\\xc3]S@\\x00\\xeda\\x7fq\\xf1:@\\x00J\\xdc@\\xbf]S@`\\xbf,^z\\xf1:@$\\xc8\\xc1\\xfbk]S@\\xf0\\xb0\\xfa\\xd2\\xb0\\xf1:@\\xf4\\xb4y\\xad/]S@\\xc07b\\xb8\\xd3\\xf1:@P4\\xab\\xc8\\x19]S@`N\\rJ\\x0c\\xf2:@\\x10o\\xbf\\xfe\\xf9\\\\S@\\x90;8\\x04Z\\xf2:@\\xc4\\xa5\\r\\x9a\\xf8\\\\S@`\\xf9\"n\\xbd\\xf2:@\\x8c\\x99\\xfc\\x16\\xf9\\\\S@ (9\\'\\xc3\\xf2:@\\xcc\\xceg\\x0b\\xf1\\\\S@\\x10B\\xcc\\xed\\xc2\\xf2:@ z\\x94&\\xdb\\\\S@\\x10\\x92\\xa5\\x9c\\xfc\\xf2:@@\\xbfYw\\xc0\\\\S@\\xc0\\xb8h\\x19\\xf3\\xf2:@P:\\x7f$\\xb9\\\\S@@\\xd4v;\\xfc\\xf2:@X\\x9f\\xb6P\\xa2\\\\S@\\xc0\\x1f\\xcc\\x9bl\\xf2:@Xk&R\\x83\\\\S@\\x90\\x0c\\xf1\\x96\\xa1\\xf1:@t\\xa1H>n\\\\S@\\xf0\\x7f^\\xe1\"\\xf1:@\\xa0\\xb7\\x19#{\\\\S@PqWf\\xba\\xf0:@\\x18)P)|\\\\S@pT\\xa3ws\\xf0:@\\xa0Q\\xf8;\\x7f\\\\S@\\xf0=\\xa5\\xa8\\x9e\\xef:@\\xc4\\xc3a\\xbc\\x84\\\\S@ e\\xc4\\x19\\xa0\\xed:@\\x9c?\\x8e\\xb0\\x99\\\\S@\\x80\\x07\\x88u$\\xed:@\\x0c\\x8fQ\\x97\\xf8\\\\S@0=\\x0cl+\\xeb:@\\xec\\xe5\\xa0n\\x0b]S@\\x80\\xb7a\\x12\\xcf\\xea:@\\xbc\\x17\\t&\\t]S@\\xe0RQ\\x91]\\xea:@\\xf8\\xcf\\xd4\\x12\\x03]S@\\xb0@\\xf1\\xb5\\x19\\xea:@\\xa8c\\xa4$\\xfe\\\\S@\\x90\\xa1=\\xa3\\xe2\\xe9:@T;\\x9e\\xa3\\xf0\\\\S@\\xa0\\x18\\xcd\\xab\\x9b\\xe9:@\\xfc*\\xd4\\x9d\\xbe\\\\S@ \\x06{Q\\x15\\xe9:@\\x0c\\xacl\\xed\\x96\\\\S@\\xa0%\\xe2\\x85\\xb3\\xe8:@l\\xd8\\x17\\x93\\x9f\\\\S@\\x00\\x15&\\xb0^\\xe8:@8\\xe3\\xf5\\xf5\\xb1\\\\S@\\xd0\\xd7\\x18-\\x9b\\xe7:@\\xb4|\\xe0\\xac\\xc9\\\\S@\\xb0\\xfe\\x9cf\\xbf\\xe6:@\\x88\\x89\\x02T\\xd8\\\\S@ \\xad[%W\\xe6:@\\xa0\\x191\\xc9\\xd8\\\\S@\\x80\\xe9m.\\x00\\xe6:@\\xe8u+\\xe3\\xd8\\\\S@P\\x03\\xf2&\\xfe\\xe5:@40\\x87\\xc3\\xca\\\\S@\\xc0\\x15 \\x99\\xcb\\xe5:@H:m\\xe7x\\\\S@`]\\x9e\\n\\xf1\\xe4:@P\\xad;\\xdfW\\\\S@\\x80\\x86\\x04\\xaa\\xbe\\xe4:@\\x00\\xba\\xe8\\x007\\\\S@\\xf0\\xf1\\x9e\\x88\\x8c\\xe4:@<\\xad\\xb63\\x14\\\\S@\\xf0\\xda\\x07z\\x1d\\xe4:@\\xb8w\\x93\\x01\\xa7[S@\\xa0\\x87l,o\\xe3:@\\xdcn\\xb5q_[S@\\xd0\\xc0\\x19\\xbf%\\xe3:@\\x04\\xfet\\xd7\\x17[S@\\x90\\x8e\\xf9\\xa6&\\xe3:@\\xb4\\x89\\xbd\\x97\\xffZS@\\xa0Hl\\xb0<\\xe3:@<\\x90F\\xe8\\xf5ZS@@\\\\\\x9f}E\\xe3:@\\xb0\\n\\x1b\\x07\\xe3ZS@\\xf0rG\\xee\\x85\\xe3:@lP|t\\xd9ZS@\\xe0a\\xa1\\x9f\\x8d\\xe4:@T\\x16\\xb8\\xc5\\xd2ZS@ \\x1c\\xb5\\xc4%\\xe5:@d\\x8e\\xa1^\\xa6ZS@\\x80\\xe3\\x9b\\x9e\\xda\\xe6:@|\\xa7\\xee\\x94\\x83ZS@@\\xd8#\\xf4\\xec\\xe8:@X\\x9a\\xd2AdZS@\\xb0\\x9ej0\\xc7\\xe9:@\\xe4\\xe5\\x19\\xe12ZS@0I\\x04\\xfb\\x8f\\xea:@h~M\\xb4\\xedYS@@T\\xdb\\xdbW\\xeb:@\\x14\\xfe\\x0f\\xe3\\xa6YS@\\xe0\\x83\\xfd\\x8b\\xa1\\xeb:@L5\\t\\x8dGYS@p>Y\\xbf\\x04\\xec:@\\xf0\\xcdh\\x9fFYS@\\xd0\\xfe \\x9d\\x05\\xec:@<!\\xce54YS@@q\\xb1\\xcb\\x16\\xec:@0\\xd5l\\x04\\xa6XS@`\\x11\\x1f|\\x9b\\xec:@\\x90`,V\\x90XS@\\xc0\\x1d0\\x05\\xc9\\xec:@\\xd8f\\xf3\\x10\\x81XS@P3k\\x17\\xe9\\xec:@\\xb8mdNyXS@@8UpW\\xed:@<c\\xabh\\x82XS@\\x00\\xb4\\xe0\\xc5\\x12\\xee:@\\x14)\\x066\\x8eXS@\\x0019\\x06\\\\\\xee:@tX\\x8c\\x19\\xa4XS@\\x10(\\xe7\\xdf\\xe3\\xee:@\\xb8\\x03;\\xbf\\xd9XS@\\x00\\xae\\xe9\\xde\\xeb\\xef:@\\xe8\\x94\\x0bA\\xf8XS@0\\x0b\\x9bjm\\xf1:@0UR:\\x06YS@@5\\x07\\x84\\xd5\\xf1:@\\x14\\x8b\\xe22\\x13YS@`\\xc4\\xda#6\\xf2:@\\xect\\xe7\\x1b#YS@\\x90\\xe9\\xea\\xa8\\xac\\xf2:@L\\x8d\\x97RFYS@ \\x01\\xa9n\\xe9\\xf3:@\\xe0\\x08\\x0f\\xd6cYS@\\xe0M\\xa2(\\xb7\\xf4:@\\x00\\x12\\xf2\\x90pYS@\\x80q\\xeb\\xe3\\x0f\\xf5:@\\xb8:\\xa5\\xa6\\x87YS@@z\\xad\\xe1\\x1a\\xf6:@\\x90\\xe8D\\x96\\x95YS@`J\\xac\\x0f\\xbc\\xf6:@\\xec\\xa8\\xd5\\xc5\\x96YS@ $mZ]\\xf7:@x\\x0c\\xfe\\xb0\\x89YS@\\x90\\xe1\\x81\\x9f\\x95\\xf7:@l\\xa9\\x03\\x18pYS@\\x909=\\xbb\\x03\\xf8:@\\xa0\\xbc\\x7f\\xf6MYS@\\xa0\\xf8vYY\\xf8:@\\xa4t\\xc6\\xb68YS@pg!\\xa7\\x8e\\xf8:@Hc\\x06Z\\xe6XS@\\xf0\\x95\\x0e\\x04\\xf5\\xf8:@l0Y\\xdc\\xadXS@@\\x8aCC\\t\\xf9:@@Zx\\x9b\\x96XS@\\x90c\\xd4\\x98\\x11\\xf9:@\\x84;z\\x9c`XS@\\x90I\\xda\\xc8\\xff\\xf8:@l\\x0e=?6XS@pO\\x97D\\x96\\xf8:@\\xe4\\x81|+\\rXS@\\x10\\xd7\\xc5\\xbb,\\xf8:@\\x80\\xfbf\\xe6\\xf5WS@\\xa0\\xab\\x92\\x0b&\\xf8:@\\x8ce\\xb3P\\xeeWS@P\\xe5n\\xdd#\\xf8:@\\xb8\\xda\\xfa\\xb1\\xc7WS@ @\\x90\\xd2d\\xf8:@\\x18\\xa9\\x9b~\\xa7WS@0\\x08@\\x88\\xb3\\xf8:@\\xb0\\xed\\xdf\\x1c\\x8bWS@0\\xdc\\xc8\\x809\\xf9:@d\\x00\\x8e\\xd0\\x86WS@\\xf0$ 5s\\xf9:@\\xd8\\xe1en\\x7fWS@\\xb0\\xf5\\xd2T\\xd6\\xf9:@\\x80\\xa8T\\xed\\x80WS@\\xd0\\xc7\\xcc\\xfb%\\xfa:@'"
      ]
     },
     "execution_count": 15,
     "metadata": {},
     "output_type": "execute_result"
    }
   ],
   "source": [
    "test_wkb['geometry'][9]"
   ]
  },
  {
   "cell_type": "code",
   "execution_count": 8,
   "id": "6d7606de",
   "metadata": {},
   "outputs": [
    {
     "data": {
      "text/plain": [
       "0        MULTIPOLYGON (((77.13926 27.76213, 77.13982 27...\n",
       "1        MULTIPOLYGON (((77.07143 26.84008, 77.06852 26...\n",
       "2        MULTIPOLYGON (((76.93663 27.60967, 76.93636 27...\n",
       "3        MULTIPOLYGON (((77.13675 26.80514, 77.13852 26...\n",
       "4        MULTIPOLYGON (((77.20875 27.33833, 77.20870 27...\n",
       "                               ...                        \n",
       "19923    MULTIPOLYGON (((77.42586 27.16520, 77.42629 27...\n",
       "19924    MULTIPOLYGON (((77.01975 27.19543, 77.02009 27...\n",
       "19925    MULTIPOLYGON (((76.93974 26.67283, 76.93613 26...\n",
       "19926    MULTIPOLYGON (((77.16325 27.62850, 77.16296 27...\n",
       "19927    MULTIPOLYGON (((71.00116 21.57470, 71.00250 21...\n",
       "Name: geometry, Length: 19928, dtype: geometry"
      ]
     },
     "execution_count": 8,
     "metadata": {},
     "output_type": "execute_result"
    }
   ],
   "source": [
    "test['geometry']"
   ]
  },
  {
   "cell_type": "markdown",
   "id": "cd8cd0d6-96f6-4e9e-8060-40b836982d55",
   "metadata": {},
   "source": [
    "# sector_codes_6digit_filter"
   ]
  },
  {
   "cell_type": "code",
   "execution_count": null,
   "id": "7b3b9e87-3ff1-44bb-b6a4-0b2497bbd60e",
   "metadata": {},
   "outputs": [],
   "source": [
    "import pandas as pd\n",
    "\n",
    "uk_postal_codes = pd.read_csv(\"./ukpostcodes.csv\")\n",
    "postal_codes = uk_postal_codes['postcode'].to_list()\n",
    "\n",
    "sector_codes = []\n",
    "\n",
    "for each in postal_codes:\n",
    "    sector_codes.append(each[:6])\n",
    "\n",
    "unique_sector_codes = set(sector_codes)\n",
    "\n",
    "sector_codes_df = pd.DataFrame(sector_codes,columns = [\"sector_codes\"])\n",
    "unique_sector_codes_df = pd.DataFrame(unique_sector_codes,columns = [\"unique_sector_codes\"])\n",
    "\n",
    "sector_codes_df.to_csv('./UK_sector_codes.csv')\n",
    "unique_sector_codes_df.to_csv('./UK_unique_sector_codes.csv')"
   ]
  }
 ],
 "metadata": {
  "kernelspec": {
   "display_name": "Python 3 (ipykernel)",
   "language": "python",
   "name": "python3"
  },
  "language_info": {
   "codemirror_mode": {
    "name": "ipython",
    "version": 3
   },
   "file_extension": ".py",
   "mimetype": "text/x-python",
   "name": "python",
   "nbconvert_exporter": "python",
   "pygments_lexer": "ipython3",
   "version": "3.10.12"
  }
 },
 "nbformat": 4,
 "nbformat_minor": 5
}
